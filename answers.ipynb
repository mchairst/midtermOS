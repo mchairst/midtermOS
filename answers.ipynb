{
 "cells": [
  {
   "cell_type": "markdown",
   "metadata": {},
   "source": [
    "1\tFor each of the following process state transition, say whether the transition is legal and how the transition occurs or why it cannot.\n",
    "a.\tChange from thread state WAIT to thread state RUNNING \n",
    "- illegal, wait transitions to ready when an event triggers it, then to running but cannot move directly to running.\n",
    "b.\tChange from thread state RUNNING to thread state WAIT\n",
    "- legal , can do this when a required resource is not available. \n",
    "c.\tChange from thread state READY to thread state WAIT\n",
    "- illegal, They cannot move directly to WAIT state without first running.\n"
   ]
  },
  {
   "cell_type": "markdown",
   "metadata": {},
   "source": [
    "2)\tWrite a program that opens a file (with the open () system call) and then calls fork () to create a new process. Can both the child and parent access the file descriptor returned by open ()? What happens when they are writing to the file concurrently, i.e., at the same time?\n",
    "\n",
    "- yes they shar the same file descriptor. their outputs can mix together unpredictably because they share the same file offset."
   ]
  },
  {
   "cell_type": "markdown",
   "metadata": {},
   "source": [
    "3)\tWrite another program using a fork (). The child process should print “hello”; the parent process should print “goodbye”. You should try to ensure that the child process always prints first; can you do this without calling wait () in the parent?\n",
    "\n",
    "-yes "
   ]
  },
  {
   "cell_type": "markdown",
   "metadata": {},
   "source": [
    "4)\tWrite a program that creates a child process, and then in the child closes standard output (STDOUT FILENO). What happens if the child calls printf () to print some output after closing the descriptor?"
   ]
  },
  {
   "cell_type": "markdown",
   "metadata": {},
   "source": [
    "5)\tConsider the following piece of C code: \n",
    "void main ( ) { \n",
    "fork ( ); \n",
    "fork ( );\n",
    " exit ( ); \n",
    "} \n",
    "How many child processes are created upon execution of this program?\n",
    "- 3 "
   ]
  }
 ],
 "metadata": {
  "language_info": {
   "name": "python"
  }
 },
 "nbformat": 4,
 "nbformat_minor": 2
}
